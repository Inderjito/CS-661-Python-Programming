{
 "cells": [
  {
   "cell_type": "markdown",
   "metadata": {},
   "source": [
    "## Control flows"
   ]
  },
  {
   "cell_type": "code",
   "execution_count": 1,
   "metadata": {},
   "outputs": [
    {
     "name": "stdout",
     "output_type": "stream",
     "text": [
      "9 is divisible by 3.\n"
     ]
    }
   ],
   "source": [
    "n=9\n",
    "if (n%3 ==0):\n",
    "    print(\"{} is divisible by 3.\".format(n))"
   ]
  },
  {
   "cell_type": "code",
   "execution_count": 2,
   "metadata": {},
   "outputs": [
    {
     "name": "stdout",
     "output_type": "stream",
     "text": [
      "8 is not divisible by 3.\n"
     ]
    }
   ],
   "source": [
    "n=8\n",
    "if (n%3 == 0):\n",
    "    print(\"{} is diviible by 3.\".format(n))\n",
    "else:\n",
    "    print(\"{} is not divisible by 3.\".format(n))"
   ]
  },
  {
   "cell_type": "code",
   "execution_count": 3,
   "metadata": {},
   "outputs": [
    {
     "name": "stdout",
     "output_type": "stream",
     "text": [
      "7 is not divisible by 3 with remainder 1\n"
     ]
    }
   ],
   "source": [
    "n= 7\n",
    "\n",
    "if (n%3==0):\n",
    "    print(\"{} is divisble by 3.\".format(n))\n",
    "    \n",
    "elif(n%3 ==1):\n",
    "    print(\"{} is not divisible by 3 with remainder 1\".format(n))\n",
    "    \n",
    "else:\n",
    "    print(\"{} is not divisible by 3 with reminder 2.\".format(n))"
   ]
  },
  {
   "cell_type": "code",
   "execution_count": 62,
   "metadata": {},
   "outputs": [
    {
     "name": "stdout",
     "output_type": "stream",
     "text": [
      "n is not divided by 3.\n"
     ]
    }
   ],
   "source": [
    "n = 8\n",
    "\n",
    "if (n%3 == 0):\n",
    "    print ('n is divided by 3.'.format(n))\n",
    "else:\n",
    "    print('n is not divided by 3.'.format(n))"
   ]
  },
  {
   "cell_type": "code",
   "execution_count": 4,
   "metadata": {},
   "outputs": [
    {
     "name": "stdout",
     "output_type": "stream",
     "text": [
      "hello\n",
      "world\n",
      "spam\n",
      "python\n"
     ]
    }
   ],
   "source": [
    "words =[\"hello\",\"world\",\"spam\",\"python\"]\n",
    "for i in range(0,len(words)):\n",
    "    print(words[i])"
   ]
  },
  {
   "cell_type": "code",
   "execution_count": 5,
   "metadata": {},
   "outputs": [
    {
     "name": "stdout",
     "output_type": "stream",
     "text": [
      "hello\n",
      "world\n",
      "pyhton\n"
     ]
    }
   ],
   "source": [
    "# example of for loop\n",
    "\n",
    "words =[\"hello\",\"world\",\"pyhton\"]\n",
    "for word in words:\n",
    "    print(word)"
   ]
  },
  {
   "cell_type": "code",
   "execution_count": 63,
   "metadata": {},
   "outputs": [
    {
     "name": "stdout",
     "output_type": "stream",
     "text": [
      "hello*\n",
      "world*\n",
      "spam*\n"
     ]
    }
   ],
   "source": [
    "words =[\"hello\",\"world\",\"spam\"]\n",
    "for word in words:\n",
    "    print(word + \"*\")"
   ]
  },
  {
   "cell_type": "code",
   "execution_count": 6,
   "metadata": {},
   "outputs": [
    {
     "name": "stdout",
     "output_type": "stream",
     "text": [
      "hello 2\n",
      "world 3\n",
      "python 5\n"
     ]
    }
   ],
   "source": [
    "word_count ={\"hello\":2,\"world\":3,\"python\":5}\n",
    "for k in word_count:\n",
    "    print(k,word_count[k])"
   ]
  },
  {
   "cell_type": "code",
   "execution_count": 8,
   "metadata": {},
   "outputs": [
    {
     "name": "stdout",
     "output_type": "stream",
     "text": [
      "range(0, 10)\n",
      "0\n",
      "1\n",
      "2\n",
      "3\n",
      "4\n",
      "5\n",
      "6\n",
      "7\n",
      "8\n",
      "9\n",
      "range(0, 35)\n",
      "0\n",
      "5\n",
      "10\n",
      "15\n",
      "20\n",
      "25\n"
     ]
    }
   ],
   "source": [
    "#range  of iteration\n",
    "\n",
    "print(range(10))\n",
    "\n",
    "for i in range(10):\n",
    "    print(i)\n",
    "    \n",
    "print(range(35))\n",
    "for j in range(0,30,5):\n",
    "    print(j)"
   ]
  },
  {
   "cell_type": "code",
   "execution_count": 10,
   "metadata": {},
   "outputs": [
    {
     "name": "stdout",
     "output_type": "stream",
     "text": [
      "<enumerate object at 0x7f97262c7b40>\n",
      "0 spring\n",
      "1 summer\n",
      "2 fall\n",
      "3 winter\n"
     ]
    }
   ],
   "source": [
    "# enumeration\n",
    "\n",
    "seasons =[\"spring\",\"summer\",\"fall\",\"winter\"]\n",
    "print (enumerate (seasons))\n",
    "\n",
    "for (k,v) in enumerate(seasons):\n",
    "    print(k,v)"
   ]
  },
  {
   "cell_type": "code",
   "execution_count": 65,
   "metadata": {},
   "outputs": [
    {
     "data": {
      "text/plain": [
       "[(0, 'spring'), (1, 'summer'), (2, 'fall'), (3, 'winter')]"
      ]
     },
     "execution_count": 65,
     "metadata": {},
     "output_type": "execute_result"
    }
   ],
   "source": [
    "seasons =[\"spring\",\"summer\",\"fall\",\"winter\"]\n",
    "list(enumerate(seasons))"
   ]
  },
  {
   "cell_type": "code",
   "execution_count": 66,
   "metadata": {},
   "outputs": [
    {
     "data": {
      "text/plain": [
       "[(0, 'josh'), (1, 'petter'), (2, 'pretty'), (3, 'SUSAN')]"
      ]
     },
     "execution_count": 66,
     "metadata": {},
     "output_type": "execute_result"
    }
   ],
   "source": [
    "name = ['josh','petter','pretty','susan'.upper()]\n",
    "list(enumerate(name))"
   ]
  },
  {
   "cell_type": "code",
   "execution_count": null,
   "metadata": {},
   "outputs": [],
   "source": []
  },
  {
   "cell_type": "code",
   "execution_count": 17,
   "metadata": {},
   "outputs": [
    {
     "name": "stdout",
     "output_type": "stream",
     "text": [
      "for loop =====\n",
      "1\n",
      "2\n",
      "3\n",
      "4\n",
      "5\n",
      "While loop =====\n",
      "1\n",
      "2\n",
      "3\n",
      "4\n",
      "5\n"
     ]
    }
   ],
   "source": [
    "print (\"for loop =====\")\n",
    "for i in range (1,6):\n",
    "    print(i)\n",
    "    \n",
    "    \n",
    "print (\"While loop =====\")\n",
    "\n",
    "i=1\n",
    "while (i<=5):\n",
    "    print(i)\n",
    "    i+=1"
   ]
  },
  {
   "cell_type": "code",
   "execution_count": 18,
   "metadata": {},
   "outputs": [
    {
     "name": "stdout",
     "output_type": "stream",
     "text": [
      "5\n",
      "13\n"
     ]
    }
   ],
   "source": [
    "x= 1\n",
    "while True:\n",
    "    x = x+4\n",
    "    if x % 3 ==0:\n",
    "        continue\n",
    "    if x>= 15:\n",
    "        break\n",
    "        \n",
    "    print(x)"
   ]
  },
  {
   "cell_type": "code",
   "execution_count": 19,
   "metadata": {},
   "outputs": [
    {
     "name": "stdout",
     "output_type": "stream",
     "text": [
      "An exception flew by!\n"
     ]
    },
    {
     "ename": "NameError",
     "evalue": "HiThere",
     "output_type": "error",
     "traceback": [
      "\u001b[0;31m---------------------------------------------------------------------------\u001b[0m",
      "\u001b[0;31mNameError\u001b[0m                                 Traceback (most recent call last)",
      "\u001b[0;32m<ipython-input-19-bf6ef4926f8c>\u001b[0m in \u001b[0;36m<module>\u001b[0;34m\u001b[0m\n\u001b[1;32m      1\u001b[0m \u001b[0;32mtry\u001b[0m\u001b[0;34m:\u001b[0m\u001b[0;34m\u001b[0m\u001b[0;34m\u001b[0m\u001b[0m\n\u001b[0;32m----> 2\u001b[0;31m     \u001b[0;32mraise\u001b[0m \u001b[0mNameError\u001b[0m\u001b[0;34m(\u001b[0m\u001b[0;34m'HiThere'\u001b[0m\u001b[0;34m)\u001b[0m\u001b[0;34m\u001b[0m\u001b[0;34m\u001b[0m\u001b[0m\n\u001b[0m\u001b[1;32m      3\u001b[0m \u001b[0;32mexcept\u001b[0m \u001b[0mNameError\u001b[0m\u001b[0;34m:\u001b[0m\u001b[0;34m\u001b[0m\u001b[0;34m\u001b[0m\u001b[0m\n\u001b[1;32m      4\u001b[0m     \u001b[0mprint\u001b[0m\u001b[0;34m(\u001b[0m\u001b[0;34m'An exception flew by!'\u001b[0m\u001b[0;34m)\u001b[0m\u001b[0;34m\u001b[0m\u001b[0;34m\u001b[0m\u001b[0m\n\u001b[1;32m      5\u001b[0m     \u001b[0;32mraise\u001b[0m\u001b[0;34m\u001b[0m\u001b[0;34m\u001b[0m\u001b[0m\n",
      "\u001b[0;31mNameError\u001b[0m: HiThere"
     ]
    }
   ],
   "source": [
    "try:\n",
    "    raise NameError('HiThere')\n",
    "except NameError:\n",
    "    print('An exception flew by!')\n",
    "    raise"
   ]
  },
  {
   "cell_type": "code",
   "execution_count": 20,
   "metadata": {},
   "outputs": [
    {
     "name": "stdout",
     "output_type": "stream",
     "text": [
      "division by zero!\n",
      "executing finally clause\n",
      "result is 5.0\n",
      "executing finally clause\n"
     ]
    }
   ],
   "source": [
    "def divide(x,y):\n",
    "    try:\n",
    "        result =x/y\n",
    "    except ZeroDivisionError:\n",
    "        print(\"division by zero!\")\n",
    "    else:\n",
    "        print(\"result is\", result)\n",
    "        \n",
    "    finally:\n",
    "        print(\"executing finally clause\")\n",
    "        \n",
    "divide(10,0)\n",
    "divide(10,2)"
   ]
  },
  {
   "cell_type": "markdown",
   "metadata": {},
   "source": [
    "## operators"
   ]
  },
  {
   "cell_type": "code",
   "execution_count": 21,
   "metadata": {},
   "outputs": [
    {
     "name": "stdout",
     "output_type": "stream",
     "text": [
      "False\n",
      "True\n",
      "True\n"
     ]
    }
   ],
   "source": [
    "x=[1,'a',2]\n",
    "y=[1,'a',2]\n",
    "print(x is y)\n",
    "print(x is not y)\n",
    "print(x == y)"
   ]
  },
  {
   "cell_type": "code",
   "execution_count": 22,
   "metadata": {},
   "outputs": [
    {
     "name": "stdout",
     "output_type": "stream",
     "text": [
      "True\n",
      "False\n",
      "True\n"
     ]
    }
   ],
   "source": [
    "x = y\n",
    "\n",
    "print(x is y)\n",
    "print(x is not y)\n",
    "print(x ==y)"
   ]
  },
  {
   "cell_type": "code",
   "execution_count": 23,
   "metadata": {},
   "outputs": [
    {
     "name": "stdout",
     "output_type": "stream",
     "text": [
      "True\n",
      "False\n",
      "True\n"
     ]
    }
   ],
   "source": [
    "a =5\n",
    "b = 5\n",
    "\n",
    "print( a is b)\n",
    "print (a is not b)\n",
    "print( a == b)"
   ]
  },
  {
   "cell_type": "code",
   "execution_count": 28,
   "metadata": {},
   "outputs": [
    {
     "name": "stdout",
     "output_type": "stream",
     "text": [
      "True\n",
      "False\n"
     ]
    }
   ],
   "source": [
    "word ='python'\n",
    "print('p' in word)\n",
    "print('p' not in word)"
   ]
  },
  {
   "cell_type": "code",
   "execution_count": 31,
   "metadata": {},
   "outputs": [
    {
     "name": "stdout",
     "output_type": "stream",
     "text": [
      "True\n",
      "False\n"
     ]
    }
   ],
   "source": [
    "l = [1,2,3,4,5]\n",
    "print(2 in l)\n",
    "print( 2 not in l)"
   ]
  },
  {
   "cell_type": "code",
   "execution_count": 32,
   "metadata": {},
   "outputs": [
    {
     "name": "stdout",
     "output_type": "stream",
     "text": [
      "False\n",
      "True\n"
     ]
    }
   ],
   "source": [
    "s ={'a','b','c','d'}\n",
    "print(a in s)\n",
    "print(a not in s)"
   ]
  },
  {
   "cell_type": "code",
   "execution_count": 33,
   "metadata": {},
   "outputs": [
    {
     "name": "stdout",
     "output_type": "stream",
     "text": [
      "False\n",
      "True\n",
      "True\n"
     ]
    }
   ],
   "source": [
    "s ={'k1':'v1','k2': 'v2'}\n",
    "print ('v1' in s)\n",
    "print('k1' in s)\n",
    "print('k3' not in s)"
   ]
  },
  {
   "cell_type": "code",
   "execution_count": 34,
   "metadata": {},
   "outputs": [
    {
     "name": "stdout",
     "output_type": "stream",
     "text": [
      "True\n",
      "False\n",
      "False\n",
      "False\n"
     ]
    }
   ],
   "source": [
    "print(True and True) # true\n",
    "print(True and False) # false\n",
    "print(False and False)# false\n",
    "print(False and True) # false"
   ]
  },
  {
   "cell_type": "code",
   "execution_count": 35,
   "metadata": {},
   "outputs": [
    {
     "name": "stdout",
     "output_type": "stream",
     "text": [
      "True\n"
     ]
    }
   ],
   "source": [
    "print (\"False\" and True)"
   ]
  },
  {
   "cell_type": "code",
   "execution_count": 36,
   "metadata": {},
   "outputs": [
    {
     "name": "stdout",
     "output_type": "stream",
     "text": [
      "1\n"
     ]
    }
   ],
   "source": [
    "print(7 & 9)"
   ]
  },
  {
   "cell_type": "code",
   "execution_count": 38,
   "metadata": {},
   "outputs": [
    {
     "name": "stdout",
     "output_type": "stream",
     "text": [
      "True\n",
      "True\n",
      "True\n",
      "False\n"
     ]
    }
   ],
   "source": [
    "print(True or False)\n",
    "print(True or True)\n",
    "print( False or True)\n",
    "print(False or False)\n"
   ]
  },
  {
   "cell_type": "code",
   "execution_count": 39,
   "metadata": {},
   "outputs": [
    {
     "name": "stdout",
     "output_type": "stream",
     "text": [
      "15\n"
     ]
    }
   ],
   "source": [
    "print (9|7)"
   ]
  },
  {
   "cell_type": "markdown",
   "metadata": {},
   "source": [
    "## Functions"
   ]
  },
  {
   "cell_type": "code",
   "execution_count": 41,
   "metadata": {},
   "outputs": [
    {
     "data": {
      "text/plain": [
       "64"
      ]
     },
     "execution_count": 41,
     "metadata": {},
     "output_type": "execute_result"
    }
   ],
   "source": [
    "def nsquare(x,y):\n",
    "    value = (x*x + 2*x*y + y*y)\n",
    "    return value\n",
    "\n",
    "nsquare(4,4)"
   ]
  },
  {
   "cell_type": "code",
   "execution_count": 46,
   "metadata": {},
   "outputs": [
    {
     "name": "stdout",
     "output_type": "stream",
     "text": [
      "*\n",
      "**\n",
      "***\n",
      "****\n",
      "*****\n",
      "******\n",
      "*******\n",
      "********\n",
      "*********\n",
      "**********\n"
     ]
    }
   ],
   "source": [
    "def right_triangle(n):\n",
    "    for i in range(1, n+1):\n",
    "        line=''\n",
    "        for j in range(0,i):\n",
    "            line +='*'\n",
    "        print(line)\n",
    "        \n",
    "right_triangle(10)"
   ]
  },
  {
   "cell_type": "code",
   "execution_count": 61,
   "metadata": {},
   "outputs": [
    {
     "name": "stdout",
     "output_type": "stream",
     "text": [
      "*\n",
      "**\n",
      "***\n",
      "****\n"
     ]
    }
   ],
   "source": [
    "n =4\n",
    "for i in range(1,n+1):\n",
    "    line =''\n",
    "    for j in range(0,i):\n",
    "        line+='*'\n",
    "    print(line)"
   ]
  },
  {
   "cell_type": "code",
   "execution_count": 55,
   "metadata": {},
   "outputs": [
    {
     "name": "stdout",
     "output_type": "stream",
     "text": [
      "[9]\n"
     ]
    }
   ],
   "source": [
    "def intersection(a,b):\n",
    "    ai = 0\n",
    "    bi = 0\n",
    "    newlist =[]\n",
    "    \n",
    "    \n",
    "    while (ai< len(a) and bi < len(b)):\n",
    "        if(a[ai] == b[bi]):\n",
    "            newlist.append(a[ai])\n",
    "            ai+= 1\n",
    "            bi+= 1\n",
    "        elif(a[ai]< b[bi]):\n",
    "            ai += 1\n",
    "        \n",
    "        else:\n",
    "            bi +=1\n",
    "    return newlist\n",
    "    \n",
    "print (intersection([5,9,11],[2,4,9,12]))"
   ]
  },
  {
   "cell_type": "code",
   "execution_count": 57,
   "metadata": {},
   "outputs": [
    {
     "name": "stdout",
     "output_type": "stream",
     "text": [
      "{'python': 3, 'is': 3, 'a': 3, 'highlevel': 1, 'generalpurpose': 1, 'programming': 4, 'language': 3, 'its': 2, 'design': 1, 'philosophy': 1, 'emphasizes': 1, 'code': 1, 'readability': 1, 'with': 1, 'the': 3, 'use': 1, 'of': 1, 'significant': 1, 'indentation33python': 1, 'dynamically': 1, 'typed': 1, 'and': 3, 'garbagecollected': 1, 'it': 3, 'supports': 1, 'multiple': 1, 'paradigms': 1, 'including': 1, 'structured': 1, 'particularly': 1, 'procedural': 1, 'objectoriented': 1, 'functional': 1, 'often': 1, 'described': 1, 'as': 3, 'batteries': 1, 'included': 1, 'due': 1, 'to': 2, 'comprehensive': 1, 'standard': 1, 'library3435guido': 1, 'van': 1, 'rossum': 1, 'began': 1, 'working': 1, 'on': 1, 'in': 2, 'late': 1, '1980s': 1, 'successor': 1, 'abc': 1, 'first': 1, 'released': 1, '1991': 1}\n"
     ]
    }
   ],
   "source": [
    "def word_count(paragraph):\n",
    "    cleaned_paragraph=[x.lower() for x in paragraph if x.isalnum() or x == ' ']\n",
    "    count_map=dict()\n",
    "    word = ''\n",
    "    for x in cleaned_paragraph:\n",
    "        if x != ' ':\n",
    "            word += x\n",
    "        else:\n",
    "            if word not in count_map:\n",
    "                count_map[word]=1\n",
    "            else:\n",
    "                count_map[word] += 1\n",
    "            word = ''\n",
    "    return count_map\n",
    "\n",
    "\n",
    "paragraph=paragraph =\"Python is a high-level, general-purpose programming language. Its design philosophy emphasizes code readability with the use of significant indentation.[33]Python is dynamically typed and garbage-collected. It supports multiple programming paradigms, including structured (particularly procedural), object-oriented and functional programming. It is often described as a batteries included language due to its comprehensive standard library.[34][35]Guido van Rossum began working on Python in the late 1980s as a successor to the ABC programming language and first released it in 1991 as Python 0.9.0.\"\n",
    "print(word_count(paragraph))\n"
   ]
  },
  {
   "cell_type": "code",
   "execution_count": 58,
   "metadata": {},
   "outputs": [
    {
     "name": "stdout",
     "output_type": "stream",
     "text": [
      "49\n",
      "25\n"
     ]
    }
   ],
   "source": [
    "def nsquare(x,y=2):\n",
    "    value = (x*x +2*x*y +y*y)\n",
    "    return value\n",
    "\n",
    "\n",
    "print(nsquare(3,4))\n",
    "print(nsquare(3))"
   ]
  },
  {
   "cell_type": "code",
   "execution_count": 60,
   "metadata": {},
   "outputs": [
    {
     "name": "stdout",
     "output_type": "stream",
     "text": [
      "al inputs ===\n",
      "math:70\n",
      "english:80\n",
      "science:90\n",
      "reverse order ===\n",
      "math:80\n",
      "english:90\n",
      "science:90\n",
      "default value ===\n",
      "math:60\n",
      "english:50\n",
      "science:90\n"
     ]
    }
   ],
   "source": [
    "def score(math,english,science=90):\n",
    "    print('math:{}'.format(math))\n",
    "    print('english:{}'.format(english))\n",
    "    print('science:{}'.format(science))\n",
    "    \n",
    "print(\"al inputs ===\")\n",
    "score(70,80,90)\n",
    "print(\"reverse order ===\")\n",
    "score(english =90, math=80)\n",
    "print(\"default value ===\")\n",
    "score(60,50)"
   ]
  },
  {
   "cell_type": "code",
   "execution_count": null,
   "metadata": {},
   "outputs": [],
   "source": []
  }
 ],
 "metadata": {
  "kernelspec": {
   "display_name": "Python 3",
   "language": "python",
   "name": "python3"
  },
  "language_info": {
   "codemirror_mode": {
    "name": "ipython",
    "version": 3
   },
   "file_extension": ".py",
   "mimetype": "text/x-python",
   "name": "python",
   "nbconvert_exporter": "python",
   "pygments_lexer": "ipython3",
   "version": "3.8.3"
  }
 },
 "nbformat": 4,
 "nbformat_minor": 4
}
