{
 "cells": [
  {
   "cell_type": "code",
   "execution_count": 1,
   "id": "7574eb1a",
   "metadata": {},
   "outputs": [
    {
     "name": "stdout",
     "output_type": "stream",
     "text": [
      "123\n"
     ]
    }
   ],
   "source": [
    "print(123)"
   ]
  },
  {
   "cell_type": "code",
   "execution_count": 4,
   "id": "e1da7a56",
   "metadata": {},
   "outputs": [
    {
     "name": "stdout",
     "output_type": "stream",
     "text": [
      "7 7\n",
      "5 7\n",
      "5 5\n"
     ]
    }
   ],
   "source": [
    "a=7\n",
    "b=7\n",
    "print (a, b)\n",
    "# change the value of a\n",
    "a=5\n",
    "print (a, b) \n",
    "# now, assign a to b.\n",
    "b = a\n",
    "print (a, b)\n"
   ]
  },
  {
   "cell_type": "code",
   "execution_count": 9,
   "id": "107d0cc9",
   "metadata": {},
   "outputs": [
    {
     "name": "stdout",
     "output_type": "stream",
     "text": [
      "5\n",
      "5.0\n",
      "2.0\n",
      "2\n"
     ]
    }
   ],
   "source": [
    "None # similar to null\n",
    "a = 'String'\n",
    "b = 5 # integer type\n",
    "c = 1.2 # floating point number type - representing non-integers\n",
    "d = True # True or False\n",
    "\n",
    "# casting example\n",
    "print(str(b))\n",
    "print(float(str(b)))\n",
    "\n",
    "# integer to float casting\n",
    "intNum = 2\n",
    "print(float(intNum))\n",
    "\n",
    "# float to integer casting\n",
    "print(int(2.5)) # not rounding, rounding down.\n"
   ]
  },
  {
   "cell_type": "code",
   "execution_count": 11,
   "id": "ece09dcd",
   "metadata": {},
   "outputs": [
    {
     "name": "stdout",
     "output_type": "stream",
     "text": [
      "2.05\n",
      "31456.27\n"
     ]
    }
   ],
   "source": [
    "a = 2.05\n",
    "print(a)\n",
    "\n",
    "b = 3145627e-02\n",
    "print(b)"
   ]
  },
  {
   "cell_type": "code",
   "execution_count": 12,
   "id": "ea891878",
   "metadata": {},
   "outputs": [
    {
     "name": "stdout",
     "output_type": "stream",
     "text": [
      "2.5\n",
      "2\n"
     ]
    }
   ],
   "source": [
    "print(5/2) # returns float value\n",
    "print(5//2) # returns int value (C-style division)"
   ]
  },
  {
   "cell_type": "code",
   "execution_count": 41,
   "id": "a0c9d42e",
   "metadata": {},
   "outputs": [
    {
     "name": "stdout",
     "output_type": "stream",
     "text": [
      "t\n",
      "h\n",
      "th\n",
      "pto\n",
      "nohtyp\n",
      "thonpy\n"
     ]
    }
   ],
   "source": [
    "language = 'python'\n",
    "print(language[2])\n",
    "print(language[-3])\n",
    "print(language[2:4])\n",
    "print(language[0:5:2])"
   ]
  },
  {
   "cell_type": "code",
   "execution_count": 4,
   "id": "9c5602cf",
   "metadata": {},
   "outputs": [
    {
     "name": "stdout",
     "output_type": "stream",
     "text": [
      "pythonc++java\n",
      "pythonpythonpythonpythonpython\n"
     ]
    }
   ],
   "source": [
    "language='java'\n",
    "#language[1] = 'b' #error\n",
    "language='c++' # immutable - create a new string and assign.\n",
    "\n",
    "language1='python'\n",
    "language2=language\n",
    "language3='java'\n",
    "print(language1 + language2 + language3) # + operator\n",
    "\n",
    "print(language1 * 5) # * operator"
   ]
  },
  {
   "cell_type": "code",
   "execution_count": 7,
   "id": "91512408",
   "metadata": {},
   "outputs": [
    {
     "data": {
      "text/plain": [
       "'Hello, John, my name is Mark'"
      ]
     },
     "execution_count": 7,
     "metadata": {},
     "output_type": "execute_result"
    }
   ],
   "source": [
    "'Hello, {}, my name is {}'.format('John', 'Mark')"
   ]
  },
  {
   "cell_type": "code",
   "execution_count": 9,
   "id": "050327a2",
   "metadata": {},
   "outputs": [
    {
     "name": "stdout",
     "output_type": "stream",
     "text": [
      "Doosan Baik\n",
      "Baik, Doosan\n"
     ]
    }
   ],
   "source": [
    "firstName='Doosan'\n",
    "lastName='Baik'\n",
    "\n",
    "print(f'{firstName} {lastName}')\n",
    "print(f'{lastName}, {firstName}')\n",
    "print(lastName + ', ' + firstName)"
   ]
  },
  {
   "cell_type": "code",
   "execution_count": 48,
   "id": "e58feb7d",
   "metadata": {},
   "outputs": [
    {
     "data": {
      "text/plain": [
       "'Hello, John, my name is Mark'"
      ]
     },
     "execution_count": 48,
     "metadata": {},
     "output_type": "execute_result"
    }
   ],
   "source": [
    "name1 = 'John'\n",
    "name2 = 'Mark'\n",
    "f'Hello, {name1}, my name is {name2}'"
   ]
  },
  {
   "cell_type": "code",
   "execution_count": 54,
   "id": "6acb4ca5",
   "metadata": {},
   "outputs": [
    {
     "name": "stdout",
     "output_type": "stream",
     "text": [
      "American Style: Mr. Doosan Baik\n",
      "Airline Style: Baik/DoosanMr.\n"
     ]
    }
   ],
   "source": [
    "firstName = 'Doosan'\n",
    "middleName = ''\n",
    "lastName = 'Baik'\n",
    "title = 'Mr.'\n",
    "\n",
    "print('American Style: {} {} {}'.format(title, firstName, lastName))\n",
    "print('Airline Style: {}/{}{}{}'.format(lastName, firstName, middleName, title))\n",
    "\n",
    "# how can we make this code easier to read using f-string?"
   ]
  },
  {
   "cell_type": "code",
   "execution_count": 10,
   "id": "0c3b9e76",
   "metadata": {},
   "outputs": [
    {
     "name": "stdout",
     "output_type": "stream",
     "text": [
      "12\n"
     ]
    }
   ],
   "source": [
    "twleve='12'\n",
    "print(int(12))"
   ]
  },
  {
   "cell_type": "code",
   "execution_count": 14,
   "id": "53aaa365",
   "metadata": {},
   "outputs": [
    {
     "name": "stdout",
     "output_type": "stream",
     "text": [
      "True\n",
      "True\n",
      "False\n"
     ]
    }
   ],
   "source": [
    "s = 'True'\n",
    "boolS = bool(s)\n",
    "print(boolS)\n",
    "\n",
    "s = 'False'\n",
    "boolS = bool(s)\n",
    "print(boolS)\n",
    "\n",
    "i = 0\n",
    "boolI = bool(i)\n",
    "print(boolI)"
   ]
  },
  {
   "cell_type": "code",
   "execution_count": 65,
   "id": "e80d1dae",
   "metadata": {},
   "outputs": [
    {
     "name": "stdout",
     "output_type": "stream",
     "text": [
      "2011-10-29\n",
      "20:30:21\n",
      "17 days, 1:59:39\n",
      "17\n",
      "7179\n"
     ]
    }
   ],
   "source": [
    "from datetime import datetime, date, time\n",
    "dt = datetime(2011, 10, 29, 20, 30, 21)\n",
    "print(dt.date())\n",
    "print(dt.time())\n",
    "dt2 = datetime(2011, 11, 15, 22, 30) # where is second?\n",
    "\n",
    "delta = dt2-dt\n",
    "print (delta)\n",
    "print (delta.days)\n",
    "print (delta.seconds)\n"
   ]
  },
  {
   "cell_type": "code",
   "execution_count": 67,
   "id": "8fd6af28",
   "metadata": {},
   "outputs": [
    {
     "name": "stdout",
     "output_type": "stream",
     "text": [
      "[1, 2, 'abc', -2.3, None]\n"
     ]
    }
   ],
   "source": [
    "b = [1, 2, 'abc', -2.3, None]\n",
    "print(b)"
   ]
  },
  {
   "cell_type": "code",
   "execution_count": 15,
   "id": "f22ae9a1",
   "metadata": {},
   "outputs": [
    {
     "name": "stdout",
     "output_type": "stream",
     "text": [
      "2\n"
     ]
    }
   ],
   "source": [
    "b = [1, 2, [1, 2, 3], 'abc', -2.3, None]\n",
    "print(b[2][1])"
   ]
  },
  {
   "cell_type": "code",
   "execution_count": 17,
   "id": "9ba17dd1",
   "metadata": {},
   "outputs": [
    {
     "name": "stdout",
     "output_type": "stream",
     "text": [
      "2\n",
      "[1, 10, 'abc', -2.3, None]\n",
      "['abc', -2.3, None]\n",
      "[1, 10, 'abc']\n",
      "[1, 'abc']\n",
      "-2.3\n"
     ]
    }
   ],
   "source": [
    "b = [1, 2, 'abc', -2.3, None]\n",
    "print(b[1])\n",
    "b[1] = 10\n",
    "print(b)\n",
    "print(b[2:5])\n",
    "print(b[:3])\n",
    "print(b[0:4:2])\n",
    "print(b[-2])"
   ]
  },
  {
   "cell_type": "code",
   "execution_count": 18,
   "id": "099bd1f0",
   "metadata": {},
   "outputs": [
    {
     "name": "stdout",
     "output_type": "stream",
     "text": [
      "[1, 2, [1, 2, 3]]\n",
      "[2, 3]\n"
     ]
    }
   ],
   "source": [
    "b = [1, 2, [1, 2, 3], 'abc', -2.3, None]\n",
    "print(b[:3])\n",
    "print(b[2][1:3]) # second indexing for the list inside the list"
   ]
  },
  {
   "cell_type": "code",
   "execution_count": 72,
   "id": "e0c21bcf",
   "metadata": {
    "scrolled": true
   },
   "outputs": [
    {
     "name": "stdout",
     "output_type": "stream",
     "text": [
      "3\n",
      "5\n",
      "1\n"
     ]
    }
   ],
   "source": [
    "stack = list()\n",
    "stack.append(1)\n",
    "stack.append(5)\n",
    "stack.append(3)\n",
    "print(stack.pop())\n",
    "print(stack.pop())\n",
    "print(stack.pop())"
   ]
  },
  {
   "cell_type": "code",
   "execution_count": 75,
   "id": "2b757ce0",
   "metadata": {},
   "outputs": [
    {
     "name": "stdout",
     "output_type": "stream",
     "text": [
      "1\n",
      "5\n",
      "3\n"
     ]
    }
   ],
   "source": [
    "queue = list()\n",
    "queue.append(1)\n",
    "queue.append(5)\n",
    "queue.append(3)\n",
    "print(queue.pop(0))\n",
    "print(queue.pop(0))\n",
    "print(queue.pop(0))"
   ]
  },
  {
   "cell_type": "code",
   "execution_count": 79,
   "id": "e22d7e2f",
   "metadata": {},
   "outputs": [
    {
     "name": "stdout",
     "output_type": "stream",
     "text": [
      "1\n",
      "['abc', 2, 3]\n",
      "1\n",
      "('abc', 2, 3)\n"
     ]
    }
   ],
   "source": [
    "listA = [1,2,3]\n",
    "print(listA[0])\n",
    "\n",
    "listA[0] = 'abc'\n",
    "print(listA)\n",
    "\n",
    "tupleA = (1,2,3)\n",
    "print(tupleA[0])\n",
    "\n",
    "# tupleA[0] = 'abc' # immutable\n",
    "\n",
    "tupleB = ('abc', 2, 3)\n",
    "print(tupleB)"
   ]
  },
  {
   "cell_type": "code",
   "execution_count": 19,
   "id": "9528821e",
   "metadata": {},
   "outputs": [
    {
     "name": "stdout",
     "output_type": "stream",
     "text": [
      "abc\n",
      "234\n",
      "{1: 'abc', 'c': 234, 234: 'def'}\n",
      "def\n"
     ]
    }
   ],
   "source": [
    "empty_dict = {}\n",
    "a = dict()\n",
    "\n",
    "a = {1: 'abc', 'c':234}\n",
    "print(a[1])\n",
    "print(a['c'])\n",
    "a[234] = 'def' # mutable\n",
    "print(a)\n",
    "print((a[234]))"
   ]
  },
  {
   "cell_type": "code",
   "execution_count": 83,
   "id": "1e862b5c",
   "metadata": {},
   "outputs": [
    {
     "name": "stdout",
     "output_type": "stream",
     "text": [
      "[1, 2, 3]\n",
      "2\n",
      "{'z': 'x'}\n",
      "x\n",
      "{1: 'a', 2: [1, 2, 3], 3: {'z': 'x', 'y': 'NEW'}}\n",
      "NEW\n"
     ]
    }
   ],
   "source": [
    "a = {1:'a', 2:[1,2,3], 3:{'z':'x'}}\n",
    "print (a[2])\n",
    "print (a[2][1])\n",
    "print (a[3])\n",
    "print (a[3]['z'])\n",
    "\n",
    "a[3]['y'] = 'NEW'\n",
    "print (a)\n",
    "print (a[3]['y'])"
   ]
  },
  {
   "cell_type": "code",
   "execution_count": 85,
   "id": "ec6787fb",
   "metadata": {},
   "outputs": [
    {
     "name": "stdout",
     "output_type": "stream",
     "text": [
      "{1, 2, 'a'}\n",
      "{1, 2, 3, 'a'}\n",
      "{1, 2, 3, 'a'}\n"
     ]
    }
   ],
   "source": [
    "a=set([1, 1, 1, 1 ,2, 'a'])\n",
    "print (a)\n",
    "a.add(3)\n",
    "print (a)\n",
    "a.add('a')\n",
    "print (a)"
   ]
  },
  {
   "cell_type": "code",
   "execution_count": 20,
   "id": "9f044c25",
   "metadata": {},
   "outputs": [
    {
     "name": "stdout",
     "output_type": "stream",
     "text": [
      "0 p\n",
      "1 y\n",
      "2 t\n",
      "3 h\n",
      "4 o\n",
      "5 n\n",
      "=======\n",
      "0 a\n",
      "1 b\n",
      "2 c\n",
      "=======\n",
      "0 I\n",
      "1 love\n",
      "2 Python\n",
      "3 !\n",
      "=======\n",
      "0 1\n",
      "1 2\n",
      "2 3\n",
      "3 5\n",
      "4 7\n",
      "=======\n",
      "0 2\n",
      "1 3\n",
      "2 4\n"
     ]
    }
   ],
   "source": [
    "for index, value in enumerate('python'):\n",
    "    print (index, value)\n",
    "print ('=======')    \n",
    "newDict = {'a': 'apple', 'b': 'bravo', 'c': 'charlie'}\n",
    "for index, value in enumerate(newDict):\n",
    "    print (index, value)\n",
    "print ('=======')\n",
    "newList = ['I', 'love', 'Python', '!']\n",
    "for index, value in enumerate(newList):\n",
    "    print (index, value)\n",
    "print ('=======')\n",
    "newSet = {5, 1, 2, 7, 2, 7, 3}\n",
    "for index, value in enumerate(newSet):\n",
    "    print (index, value)\n",
    "print ('=======')\n",
    "newTuple = (2, 3, 4)\n",
    "for index, value in enumerate(newTuple):\n",
    "    print (index, value)\n",
    "    \n"
   ]
  },
  {
   "cell_type": "code",
   "execution_count": 97,
   "id": "9ecc1f4c",
   "metadata": {},
   "outputs": [
    {
     "name": "stdout",
     "output_type": "stream",
     "text": [
      "[1, 2, 2, 3, 6, 7]\n",
      "['e', 'h', 'o', 'r', 's']\n",
      "['aaron', 'brian', 'charlie']\n"
     ]
    }
   ],
   "source": [
    "print(sorted([7, 1, 2, 6, 3, 2]))\n",
    "print(sorted('horse'))\n",
    "print(sorted(['charlie', 'brian', 'aaron']))"
   ]
  },
  {
   "cell_type": "code",
   "execution_count": 24,
   "id": "6edc5331",
   "metadata": {},
   "outputs": [
    {
     "name": "stdout",
     "output_type": "stream",
     "text": [
      "<zip object at 0x7fc14f3d0e60>\n",
      "[('foo', 'one'), ('bar', 'two'), ('baz', 'three')]\n",
      "{('foo', 'one'), ('bar', 'two'), ('baz', 'three')}\n",
      "{'foo': 'one', 'bar': 'two', 'baz': 'three'}\n",
      "{(1, 2), (1, 3), (2, 3)}\n"
     ]
    }
   ],
   "source": [
    "seq1 = ['foo', 'bar', 'baz']\n",
    "seq2 = ['one', 'two', 'three']\n",
    "print (zip(seq1, seq2))\n",
    "### need casting\n",
    "print (list(zip(seq1, seq2)))\n",
    "print (set(zip(seq1, seq2)))\n",
    "print (dict(zip(seq1, seq2)))\n",
    "\n",
    "seq3 = [1, 1, 2]\n",
    "seq4 = [2, 3, 3]\n",
    "print (set(zip(seq3, seq4)))"
   ]
  },
  {
   "cell_type": "code",
   "execution_count": 106,
   "id": "8c5f89fc",
   "metadata": {},
   "outputs": [
    {
     "name": "stdout",
     "output_type": "stream",
     "text": [
      "['BAT', 'CAR', 'DOVE', 'PYTHON']\n",
      "{1, 2, 3, 4, 6}\n"
     ]
    }
   ],
   "source": [
    "words = ['a', 'as', 'bat', 'car', 'dove', 'python']\n",
    "print([x.upper() for x in words if len(x) > 2])\n",
    "print(set(len (x) for x in words))"
   ]
  }
 ],
 "metadata": {
  "kernelspec": {
   "display_name": "Python 3 (ipykernel)",
   "language": "python",
   "name": "python3"
  },
  "language_info": {
   "codemirror_mode": {
    "name": "ipython",
    "version": 3
   },
   "file_extension": ".py",
   "mimetype": "text/x-python",
   "name": "python",
   "nbconvert_exporter": "python",
   "pygments_lexer": "ipython3",
   "version": "3.7.12"
  }
 },
 "nbformat": 4,
 "nbformat_minor": 5
}
