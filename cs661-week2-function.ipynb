{
 "cells": [
  {
   "cell_type": "code",
   "execution_count": 7,
   "id": "3e69d0c5",
   "metadata": {},
   "outputs": [
    {
     "data": {
      "text/plain": [
       "49"
      ]
     },
     "execution_count": 7,
     "metadata": {},
     "output_type": "execute_result"
    }
   ],
   "source": [
    "def nsquare(x, y):\n",
    "    value = (x*x + 2*x*y + y*y)\n",
    "    return value\n",
    "\n",
    "nsquare(3, 4)"
   ]
  },
  {
   "cell_type": "code",
   "execution_count": 3,
   "id": "328188bc",
   "metadata": {},
   "outputs": [
    {
     "name": "stdout",
     "output_type": "stream",
     "text": [
      "*\n",
      "**\n",
      "***\n",
      "****\n",
      "*****\n"
     ]
    }
   ],
   "source": [
    "def right_triangle(n):\n",
    "    for i in range(1, n+1):\n",
    "        line = ''\n",
    "        for j in range(0, i):\n",
    "            line += '*'\n",
    "        print(line)\n",
    "\n",
    "right_triangle(5)"
   ]
  },
  {
   "cell_type": "code",
   "execution_count": 5,
   "id": "7044484d",
   "metadata": {},
   "outputs": [
    {
     "name": "stdout",
     "output_type": "stream",
     "text": [
      "[9]\n"
     ]
    }
   ],
   "source": [
    "def intersection (a, b):\n",
    "    ai = 0\n",
    "    bi = 0\n",
    "    newlist = []\n",
    "\n",
    "    while (ai < len(a) and bi < len(b)):\n",
    "        if (a[ai] == b[bi]):\n",
    "            newlist.append(a[ai])\n",
    "            ai += 1\n",
    "            bi += 1\n",
    "        elif (a[ai] < b[bi]):\n",
    "            ai += 1\n",
    "        else:\n",
    "            bi += 1\n",
    "    return newlist\n",
    "\n",
    "print (intersection([5,9,11], [2,4,9,12]))"
   ]
  },
  {
   "cell_type": "code",
   "execution_count": 6,
   "id": "d265dd57",
   "metadata": {
    "scrolled": true
   },
   "outputs": [
    {
     "name": "stdout",
     "output_type": "stream",
     "text": [
      "{'python': 3, 'is': 3, 'a': 3, 'highlevel': 1, 'generalpurpose': 1, 'programming': 4, 'language': 3, 'its': 2, 'design': 1, 'philosophy': 1, 'emphasizes': 1, 'code': 1, 'readability': 1, 'with': 1, 'the': 3, 'use': 1, 'of': 1, 'significant': 1, 'indentation33python': 1, 'dynamically': 1, 'typed': 1, 'and': 3, 'garbagecollected': 1, 'it': 3, 'supports': 1, 'multiple': 1, 'paradigms': 1, 'including': 1, 'structured': 1, 'particularly': 1, 'procedural': 1, 'objectoriented': 1, 'functional': 1, 'often': 1, 'described': 1, 'as': 3, 'batteries': 1, 'included': 1, 'due': 1, 'to': 2, 'comprehensive': 1, 'standard': 1, 'library3435guido': 1, 'van': 1, 'rossum': 1, 'began': 1, 'working': 1, 'on': 1, 'in': 2, 'late': 1, '1980s': 1, 'successor': 1, 'abc': 1, 'first': 1, 'released': 1, '1991': 1}\n"
     ]
    }
   ],
   "source": [
    "def word_count(paragraph):\n",
    "    cleaned_paragraph=[x.lower() for x in paragraph if x.isalnum() or x == ' ']\n",
    "    count_map=dict()\n",
    "    word = ''\n",
    "    for x in cleaned_paragraph:\n",
    "        if x != ' ':\n",
    "            word += x\n",
    "        else:\n",
    "            if word not in count_map:\n",
    "                count_map[word]=1\n",
    "            else:\n",
    "                count_map[word] += 1\n",
    "            word = ''\n",
    "    return count_map\n",
    "\n",
    "paragraph=paragraph=\"Python is a high-level, general-purpose programming language. Its design philosophy emphasizes code readability with the use of significant indentation.[33]Python is dynamically typed and garbage-collected. It supports multiple programming paradigms, including structured (particularly procedural), object-oriented and functional programming. It is often described as a batteries included language due to its comprehensive standard library.[34][35]Guido van Rossum began working on Python in the late 1980s as a successor to the ABC programming language and first released it in 1991 as Python 0.9.0.\"\n",
    "print(word_count(paragraph))"
   ]
  },
  {
   "cell_type": "code",
   "execution_count": 9,
   "id": "985c6974",
   "metadata": {},
   "outputs": [
    {
     "name": "stdout",
     "output_type": "stream",
     "text": [
      "49\n",
      "25\n"
     ]
    }
   ],
   "source": [
    "def nsquare(x, y=2):\n",
    "    value = (x*x + 2*x*y + y*y)\n",
    "    return value\n",
    "\n",
    "print(nsquare(3, 4))\n",
    "print(nsquare(3))"
   ]
  },
  {
   "cell_type": "code",
   "execution_count": 11,
   "id": "0f0462a2",
   "metadata": {},
   "outputs": [
    {
     "name": "stdout",
     "output_type": "stream",
     "text": [
      "all inputs ===\n",
      "math: 70\n",
      "English: 80\n",
      "science: 90\n",
      "reverse order ===\n",
      "math: 80\n",
      "English: 90\n",
      "science: 90\n",
      "default value ===\n",
      "math: 60\n",
      "English: 50\n",
      "science: 90\n"
     ]
    }
   ],
   "source": [
    "def scores(math, english, science=90):\n",
    "    print('math: {}'.format(math))\n",
    "    print('English: {}'.format(english))\n",
    "    print('science: {}'.format(science))\n",
    "\n",
    "print(\"all inputs ===\")\n",
    "scores(70, 80, 90)\n",
    "print(\"reverse order ===\")\n",
    "scores(english=90,math=80)\n",
    "print(\"default value ===\")\n",
    "scores(60,50)\n"
   ]
  }
 ],
 "metadata": {
  "kernelspec": {
   "display_name": "Python 3 (ipykernel)",
   "language": "python",
   "name": "python3"
  },
  "language_info": {
   "codemirror_mode": {
    "name": "ipython",
    "version": 3
   },
   "file_extension": ".py",
   "mimetype": "text/x-python",
   "name": "python",
   "nbconvert_exporter": "python",
   "pygments_lexer": "ipython3",
   "version": "3.10.8"
  }
 },
 "nbformat": 4,
 "nbformat_minor": 5
}
