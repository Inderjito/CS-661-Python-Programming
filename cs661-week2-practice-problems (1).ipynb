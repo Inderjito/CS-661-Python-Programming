{
 "cells": [
  {
   "cell_type": "code",
   "execution_count": 2,
   "id": "6e92e2bf",
   "metadata": {},
   "outputs": [
    {
     "name": "stdout",
     "output_type": "stream",
     "text": [
      "*\n",
      "**\n",
      "***\n",
      "****\n"
     ]
    }
   ],
   "source": [
    "n=4\n",
    "for i in range(1, n+1):\n",
    "    line = ''\n",
    "    for j in range(0, i):\n",
    "        line += '*'\n",
    "    print(line)"
   ]
  },
  {
   "cell_type": "code",
   "execution_count": 7,
   "id": "ca571233",
   "metadata": {},
   "outputs": [
    {
     "name": "stdout",
     "output_type": "stream",
     "text": [
      "[2, 4]\n"
     ]
    }
   ],
   "source": [
    "a = [1,2,4,8]\n",
    "b = [2,3,4,5,6,7]\n",
    "\n",
    "ai = 0\n",
    "bi = 0\n",
    "newlist = []\n",
    "\n",
    "while (ai < len(a) and bi < len(b)):\n",
    "    if (a[ai] == b[bi]):\n",
    "        newlist.append(a[ai])\n",
    "        ai += 1\n",
    "        bi += 1\n",
    "    elif (a[ai] < b[bi]):\n",
    "        ai += 1\n",
    "    else:\n",
    "        bi += 1\n",
    "print (newlist)\n",
    "    "
   ]
  },
  {
   "cell_type": "code",
   "execution_count": 2,
   "id": "081e74be",
   "metadata": {},
   "outputs": [
    {
     "name": "stdout",
     "output_type": "stream",
     "text": [
      "{'python': 3, 'is': 3, 'a': 3, 'highlevel': 1, 'generalpurpose': 1, 'programming': 4, 'language': 3, 'its': 2, 'design': 1, 'philosophy': 1, 'emphasizes': 1, 'code': 1, 'readability': 1, 'with': 1, 'the': 3, 'use': 1, 'of': 1, 'significant': 1, 'indentation33python': 1, 'dynamically': 1, 'typed': 1, 'and': 3, 'garbagecollected': 1, 'it': 3, 'supports': 1, 'multiple': 1, 'paradigms': 1, 'including': 1, 'structured': 1, 'particularly': 1, 'procedural': 1, 'objectoriented': 1, 'functional': 1, 'often': 1, 'described': 1, 'as': 3, 'batteries': 1, 'included': 1, 'due': 1, 'to': 2, 'comprehensive': 1, 'standard': 1, 'library3435guido': 1, 'van': 1, 'rossum': 1, 'began': 1, 'working': 1, 'on': 1, 'in': 2, 'late': 1, '1980s': 1, 'successor': 1, 'abc': 1, 'first': 1, 'released': 1, '1991': 1}\n"
     ]
    }
   ],
   "source": [
    "paragraph=\"Python is a high-level, general-purpose programming language. Its design philosophy emphasizes code readability with the use of significant indentation.[33]Python is dynamically typed and garbage-collected. It supports multiple programming paradigms, including structured (particularly procedural), object-oriented and functional programming. It is often described as a batteries included language due to its comprehensive standard library.[34][35]Guido van Rossum began working on Python in the late 1980s as a successor to the ABC programming language and first released it in 1991 as Python 0.9.0.\"\n",
    "\n",
    "cleaned_paragraph=[x.lower() for x in paragraph if x.isalnum() or x == ' ']\n",
    "\n",
    "count_map=dict()\n",
    "word = ''\n",
    "for x in cleaned_paragraph:\n",
    "    if x != ' ':\n",
    "        word += x\n",
    "    else:\n",
    "        if word not in count_map:\n",
    "            count_map[word]=1\n",
    "        else:\n",
    "            count_map[word] += 1\n",
    "        word = ''\n",
    "print (count_map)\n",
    "    "
   ]
  },
  {
   "cell_type": "code",
   "execution_count": 9,
   "id": "51466ac2",
   "metadata": {},
   "outputs": [
    {
     "data": {
      "text/plain": [
       "False"
      ]
     },
     "execution_count": 9,
     "metadata": {},
     "output_type": "execute_result"
    }
   ],
   "source": []
  }
 ],
 "metadata": {
  "kernelspec": {
   "display_name": "Python 3 (ipykernel)",
   "language": "python",
   "name": "python3"
  },
  "language_info": {
   "codemirror_mode": {
    "name": "ipython",
    "version": 3
   },
   "file_extension": ".py",
   "mimetype": "text/x-python",
   "name": "python",
   "nbconvert_exporter": "python",
   "pygments_lexer": "ipython3",
   "version": "3.10.8"
  }
 },
 "nbformat": 4,
 "nbformat_minor": 5
}
