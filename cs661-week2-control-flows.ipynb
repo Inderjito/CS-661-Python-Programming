{
 "cells": [
  {
   "cell_type": "code",
   "execution_count": 5,
   "id": "9988a856",
   "metadata": {},
   "outputs": [
    {
     "name": "stdout",
     "output_type": "stream",
     "text": [
      "9 is divisible by 3.\n"
     ]
    }
   ],
   "source": [
    "n = 9\n",
    "if (n % 3 == 0):\n",
    "    print (\"{} is divisible by 3.\".format(n))"
   ]
  },
  {
   "cell_type": "code",
   "execution_count": 7,
   "id": "b9d99b66",
   "metadata": {},
   "outputs": [
    {
     "name": "stdout",
     "output_type": "stream",
     "text": [
      "8 is not divisible by 3.\n"
     ]
    }
   ],
   "source": [
    "n = 8\n",
    "if (n % 3 == 0):\n",
    "    print (\"{} is divisible by 3.\".format(n))\n",
    "else:\n",
    "    print (\"{} is not divisible by 3.\".format(n))"
   ]
  },
  {
   "cell_type": "code",
   "execution_count": 9,
   "id": "199c485a",
   "metadata": {},
   "outputs": [
    {
     "name": "stdout",
     "output_type": "stream",
     "text": [
      "7 is not divisible by 3 with remainder 1.\n"
     ]
    }
   ],
   "source": [
    "n = 7\n",
    "if (n % 3 == 0):\n",
    "    print (\"{} is divisible by 3.\".format(n))\n",
    "elif (n % 3 == 1):\n",
    "    print (\"{} is not divisible by 3 with remainder 1.\".format(n))\n",
    "else:\n",
    "    print (\"{} is not divisible by 3 with remainder 2.\".format(n))"
   ]
  },
  {
   "cell_type": "code",
   "execution_count": 14,
   "id": "980d2dfd",
   "metadata": {},
   "outputs": [
    {
     "name": "stdout",
     "output_type": "stream",
     "text": [
      "hello\n",
      "world\n",
      "spam\n",
      "eggs\n"
     ]
    }
   ],
   "source": [
    "words=[\"hello\", \"world\", \"spam\", \"eggs\"]\n",
    "for i in range(0, len(words)):\n",
    "    print(words[i])"
   ]
  },
  {
   "cell_type": "code",
   "execution_count": 15,
   "id": "8010819b",
   "metadata": {},
   "outputs": [
    {
     "name": "stdout",
     "output_type": "stream",
     "text": [
      "hello\n",
      "world\n",
      "spam\n",
      "eggs\n"
     ]
    }
   ],
   "source": [
    "words=[\"hello\", \"world\", \"spam\", \"eggs\"]\n",
    "for word in words:\n",
    "    print(word)"
   ]
  },
  {
   "cell_type": "code",
   "execution_count": 17,
   "id": "f1ca2446",
   "metadata": {},
   "outputs": [
    {
     "name": "stdout",
     "output_type": "stream",
     "text": [
      "hello 2\n",
      "world 3\n",
      "spam 1\n",
      "eggs 10\n"
     ]
    }
   ],
   "source": [
    "word_count={\"hello\": 2, \"world\": 3, \"spam\": 1, \"eggs\": 10}\n",
    "for k in word_count:\n",
    "    print (k, word_count[k])"
   ]
  },
  {
   "cell_type": "code",
   "execution_count": 27,
   "id": "8a09567d",
   "metadata": {},
   "outputs": [
    {
     "name": "stdout",
     "output_type": "stream",
     "text": [
      "range(0, 10)\n",
      "0\n",
      "1\n",
      "2\n",
      "3\n",
      "4\n",
      "5\n",
      "6\n",
      "7\n",
      "8\n",
      "9\n",
      "range(0, 30, 5)\n",
      "0\n",
      "5\n",
      "10\n",
      "15\n",
      "20\n",
      "25\n"
     ]
    }
   ],
   "source": [
    "print(range(10))\n",
    "for i in range(10):\n",
    "    print(i)\n",
    "    \n",
    "print(range(0, 30, 5))\n",
    "for j in range(0, 30, 5):\n",
    "    print(j)"
   ]
  },
  {
   "cell_type": "code",
   "execution_count": 25,
   "id": "5e4d5297",
   "metadata": {},
   "outputs": [
    {
     "name": "stdout",
     "output_type": "stream",
     "text": [
      "<enumerate object at 0x10ed6b880>\n",
      "0 spring\n",
      "1 summer\n",
      "2 fall\n",
      "3 winter\n"
     ]
    }
   ],
   "source": [
    "seasons = [\"spring\", \"summer\", \"fall\", \"winter\"]\n",
    "print (enumerate(seasons))\n",
    "for (k, v) in enumerate(seasons):\n",
    "    print(k, v)"
   ]
  },
  {
   "cell_type": "code",
   "execution_count": 29,
   "id": "3e4aec44",
   "metadata": {
    "scrolled": true
   },
   "outputs": [
    {
     "name": "stdout",
     "output_type": "stream",
     "text": [
      "For loop =====\n",
      "1\n",
      "2\n",
      "3\n",
      "4\n",
      "5\n",
      "While loop =====\n",
      "1\n",
      "2\n",
      "3\n",
      "4\n",
      "5\n"
     ]
    }
   ],
   "source": [
    "print(\"For loop =====\")\n",
    "for i in range(1, 6):\n",
    "    print(i)\n",
    "    \n",
    "print(\"While loop =====\")\n",
    "i = 1\n",
    "while (i <= 5):\n",
    "    print(i)\n",
    "    i+=1"
   ]
  },
  {
   "cell_type": "code",
   "execution_count": 32,
   "id": "f79b59ce",
   "metadata": {},
   "outputs": [
    {
     "name": "stdout",
     "output_type": "stream",
     "text": [
      "5\n",
      "13\n"
     ]
    }
   ],
   "source": [
    "x = 1\n",
    "while True: \n",
    "  x = x + 4 \n",
    "  if x % 3 == 0: \n",
    "    continue\n",
    "  if x >= 15: \n",
    "    break \n",
    "  print (x)"
   ]
  },
  {
   "cell_type": "code",
   "execution_count": 37,
   "id": "63299c6d",
   "metadata": {},
   "outputs": [
    {
     "name": "stdout",
     "output_type": "stream",
     "text": [
      "An exception flew by!\n"
     ]
    },
    {
     "ename": "NameError",
     "evalue": "HiThere",
     "output_type": "error",
     "traceback": [
      "\u001b[0;31m---------------------------------------------------------------------------\u001b[0m",
      "\u001b[0;31mNameError\u001b[0m                                 Traceback (most recent call last)",
      "Cell \u001b[0;32mIn[37], line 2\u001b[0m\n\u001b[1;32m      1\u001b[0m \u001b[38;5;28;01mtry\u001b[39;00m:\n\u001b[0;32m----> 2\u001b[0m   \u001b[38;5;28;01mraise\u001b[39;00m \u001b[38;5;167;01mNameError\u001b[39;00m(\u001b[38;5;124m'\u001b[39m\u001b[38;5;124mHiThere\u001b[39m\u001b[38;5;124m'\u001b[39m)\n\u001b[1;32m      3\u001b[0m \u001b[38;5;28;01mexcept\u001b[39;00m \u001b[38;5;167;01mNameError\u001b[39;00m: \n\u001b[1;32m      4\u001b[0m   \u001b[38;5;28mprint\u001b[39m(\u001b[38;5;124m'\u001b[39m\u001b[38;5;124mAn exception flew by!\u001b[39m\u001b[38;5;124m'\u001b[39m) \n",
      "\u001b[0;31mNameError\u001b[0m: HiThere"
     ]
    }
   ],
   "source": [
    "try:\n",
    "  raise NameError('HiThere')\n",
    "except NameError: \n",
    "  print('An exception flew by!') \n",
    "  raise"
   ]
  },
  {
   "cell_type": "code",
   "execution_count": 42,
   "id": "1c2a280a",
   "metadata": {},
   "outputs": [
    {
     "name": "stdout",
     "output_type": "stream",
     "text": [
      "division by zero!\n",
      "executing finally clause\n",
      "result is 5.0\n",
      "executing finally clause\n"
     ]
    }
   ],
   "source": [
    "def divide(x, y):\n",
    "  try: \n",
    "    result = x / y \n",
    "  except ZeroDivisionError:\n",
    "    print(\"division by zero!\")\n",
    "  else: \n",
    "    print(\"result is\", result) \n",
    "  finally: \n",
    "    print(\"executing finally clause\")\n",
    "\n",
    "divide(10, 0)\n",
    "divide(10, 2)"
   ]
  }
 ],
 "metadata": {
  "kernelspec": {
   "display_name": "Python 3 (ipykernel)",
   "language": "python",
   "name": "python3"
  },
  "language_info": {
   "codemirror_mode": {
    "name": "ipython",
    "version": 3
   },
   "file_extension": ".py",
   "mimetype": "text/x-python",
   "name": "python",
   "nbconvert_exporter": "python",
   "pygments_lexer": "ipython3",
   "version": "3.10.8"
  }
 },
 "nbformat": 4,
 "nbformat_minor": 5
}
